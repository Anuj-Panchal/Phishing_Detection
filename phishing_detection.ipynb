{
 "cells": [
  {
   "cell_type": "markdown",
   "id": "b433d215-526f-44e7-8b13-6bcbaab2b3e9",
   "metadata": {},
   "source": [
    "## 1. Problem Definition"
   ]
  },
  {
   "cell_type": "markdown",
   "id": "87d1fbf6-f5df-4a69-b58b-6acc049954b9",
   "metadata": {},
   "source": [
    "> This model aims to detect and flag potential phishing emails"
   ]
  },
  {
   "cell_type": "markdown",
   "id": "4ad4e33d-20f9-458b-a80c-d9550588d717",
   "metadata": {},
   "source": [
    "## 2. Data Set"
   ]
  },
  {
   "cell_type": "markdown",
   "id": "797b9031-821f-4971-a53e-ff38cde949d1",
   "metadata": {},
   "source": [
    "> - The dataset is taken from Kaggle [https://www.kaggle.com/datasets/shashwatwork/phishing-dataset-for-machine-learning](https://www.kaggle.com/datasets/shashwatwork/phishing-dataset-for-machine-learning)\n",
    "> - The dataset can also be found at [https://data.mendeley.com/datasets/h3cgnj8hft/1](https://data.mendeley.com/datasets/h3cgnj8hft/1)"
   ]
  },
  {
   "cell_type": "markdown",
   "id": "d1b4eec2-0853-43dd-941c-a8205dcfd137",
   "metadata": {},
   "source": [
    "## 3. Evaluation"
   ]
  },
  {
   "cell_type": "markdown",
   "id": "b1e298e8-8e89-47ab-b203-a6cd86dcd206",
   "metadata": {},
   "source": [
    "> The evaluation metrics for this model will be accuracy, precision, recall and f1 score"
   ]
  },
  {
   "cell_type": "markdown",
   "id": "c1560539-8b47-4352-b5bd-bc2b9c96236c",
   "metadata": {},
   "source": [
    "## 4. Features"
   ]
  },
  {
   "cell_type": "markdown",
   "id": "a52ba800-8dd0-42fd-8a61-765d43058e31",
   "metadata": {},
   "source": [
    "This dataset has following features:\n",
    "- NumDots\n",
    "- SubdomainLevel\n",
    "- PathLevel\n",
    "- UrlLength\n",
    "- NumDash\n",
    "- NumDashInHostname\n",
    "- AtSymbol\n",
    "- TildeSymbol\n",
    "- NumUnderscore\n",
    "- NumPercent\n",
    "- NumQueryComponents\n",
    "- NumAmpersand\n",
    "- NumHash\n",
    "- NumNumericChars\n",
    "- NoHttps\n",
    "- RandomString\n",
    "- IpAddress\n",
    "- DomainInSubdomains\n",
    "- DomainInPaths\n",
    "- HttpsInHostname\n",
    "- HostnameLength\n",
    "- PathLength\n",
    "- QueryLength\n",
    "- DoubleSlashInPath\n",
    "- NumSensitiveWords\n",
    "- EmbeddedBrandName\n",
    "- PctExtHyperlinks\n",
    "- PctExtResourceUrls\n",
    "- ExtFavicon\n",
    "- InsecureForms\n",
    "- RelativeFormAction\n",
    "- ExtFormAction\n",
    "- AbnormalFormAction\n",
    "- PctNullSelfRedirectHyperlinks\n",
    "- FrequentDomainNameMismatch\n",
    "- FakeLinkInStatusBar\n",
    "- RightClickDisabled\n",
    "- PopUpWindow\n",
    "- SubmitInfoToEmail\n",
    "- IframeOrFrame\n",
    "- MissingTitle\n",
    "- ImagesOnlyInForm\n",
    "- SubdomainLevelRT\n",
    "- UrlLengthRT\n",
    "- PctExtResourceUrlsRT\n",
    "- AbnormalExtFormActionR\n",
    "- ExtMetaScriptLinkRT\n",
    "- PctExtNullSelfRedirectHyperlinksRT"
   ]
  },
  {
   "cell_type": "markdown",
   "id": "b38331e5-3b29-4318-bc9c-a5a74dd17f9a",
   "metadata": {},
   "source": [
    "### 5.1 Standard Imports"
   ]
  },
  {
   "cell_type": "code",
   "execution_count": 1,
   "id": "55928cb3-1c59-488d-b8f4-3caa1aa64920",
   "metadata": {},
   "outputs": [],
   "source": [
    "#base imports\n",
    "import numpy as np\n",
    "import pandas as pd\n",
    "import matplotlib.pyplot as plt\n",
    "%matplotlib inline\n",
    "\n",
    "#import models\n",
    "from sklearn.naive_bayes import GaussianNB\n",
    "from sklearn.neighbors import KNeighborsClassifier\n",
    "from sklearn.ensemble import RandomForestClassifier\n",
    "\n",
    "#import for evaluation\n",
    "from sklearn.model_selection import train_test_split\n",
    "from sklearn.model_selection import RandomizedSearchCV\n",
    "from sklearn.metrics import ConfusionMatrixDisplay, classification_report\n",
    "from sklearn.metrics import accuracy_score, precision_score, recall_score, f1_score\n",
    "\n",
    "#import for storing model\n",
    "from joblib import load, dump"
   ]
  },
  {
   "cell_type": "markdown",
   "id": "7a3b70e1-72fa-445c-bb53-fea3ce75ff1c",
   "metadata": {},
   "source": [
    "### 5.2 Data Preprocessing"
   ]
  },
  {
   "cell_type": "markdown",
   "id": "7ed42374-65b4-483c-a184-c00b73d539fc",
   "metadata": {},
   "source": [
    "#### 5.2.1 Import Data"
   ]
  },
  {
   "cell_type": "code",
   "execution_count": 2,
   "id": "fc3f7ae8-18ce-4c6e-b27b-cec563cf18ce",
   "metadata": {},
   "outputs": [
    {
     "data": {
      "text/html": [
       "<div>\n",
       "<style scoped>\n",
       "    .dataframe tbody tr th:only-of-type {\n",
       "        vertical-align: middle;\n",
       "    }\n",
       "\n",
       "    .dataframe tbody tr th {\n",
       "        vertical-align: top;\n",
       "    }\n",
       "\n",
       "    .dataframe thead th {\n",
       "        text-align: right;\n",
       "    }\n",
       "</style>\n",
       "<table border=\"1\" class=\"dataframe\">\n",
       "  <thead>\n",
       "    <tr style=\"text-align: right;\">\n",
       "      <th></th>\n",
       "      <th>id</th>\n",
       "      <th>NumDots</th>\n",
       "      <th>SubdomainLevel</th>\n",
       "      <th>PathLevel</th>\n",
       "      <th>UrlLength</th>\n",
       "      <th>NumDash</th>\n",
       "      <th>NumDashInHostname</th>\n",
       "      <th>AtSymbol</th>\n",
       "      <th>TildeSymbol</th>\n",
       "      <th>NumUnderscore</th>\n",
       "      <th>...</th>\n",
       "      <th>IframeOrFrame</th>\n",
       "      <th>MissingTitle</th>\n",
       "      <th>ImagesOnlyInForm</th>\n",
       "      <th>SubdomainLevelRT</th>\n",
       "      <th>UrlLengthRT</th>\n",
       "      <th>PctExtResourceUrlsRT</th>\n",
       "      <th>AbnormalExtFormActionR</th>\n",
       "      <th>ExtMetaScriptLinkRT</th>\n",
       "      <th>PctExtNullSelfRedirectHyperlinksRT</th>\n",
       "      <th>CLASS_LABEL</th>\n",
       "    </tr>\n",
       "  </thead>\n",
       "  <tbody>\n",
       "    <tr>\n",
       "      <th>0</th>\n",
       "      <td>1</td>\n",
       "      <td>3</td>\n",
       "      <td>1</td>\n",
       "      <td>5</td>\n",
       "      <td>72</td>\n",
       "      <td>0</td>\n",
       "      <td>0</td>\n",
       "      <td>0</td>\n",
       "      <td>0</td>\n",
       "      <td>0</td>\n",
       "      <td>...</td>\n",
       "      <td>0</td>\n",
       "      <td>0</td>\n",
       "      <td>1</td>\n",
       "      <td>1</td>\n",
       "      <td>0</td>\n",
       "      <td>1</td>\n",
       "      <td>1</td>\n",
       "      <td>-1</td>\n",
       "      <td>1</td>\n",
       "      <td>1</td>\n",
       "    </tr>\n",
       "    <tr>\n",
       "      <th>1</th>\n",
       "      <td>2</td>\n",
       "      <td>3</td>\n",
       "      <td>1</td>\n",
       "      <td>3</td>\n",
       "      <td>144</td>\n",
       "      <td>0</td>\n",
       "      <td>0</td>\n",
       "      <td>0</td>\n",
       "      <td>0</td>\n",
       "      <td>2</td>\n",
       "      <td>...</td>\n",
       "      <td>0</td>\n",
       "      <td>0</td>\n",
       "      <td>0</td>\n",
       "      <td>1</td>\n",
       "      <td>-1</td>\n",
       "      <td>1</td>\n",
       "      <td>1</td>\n",
       "      <td>1</td>\n",
       "      <td>1</td>\n",
       "      <td>1</td>\n",
       "    </tr>\n",
       "    <tr>\n",
       "      <th>2</th>\n",
       "      <td>3</td>\n",
       "      <td>3</td>\n",
       "      <td>1</td>\n",
       "      <td>2</td>\n",
       "      <td>58</td>\n",
       "      <td>0</td>\n",
       "      <td>0</td>\n",
       "      <td>0</td>\n",
       "      <td>0</td>\n",
       "      <td>0</td>\n",
       "      <td>...</td>\n",
       "      <td>0</td>\n",
       "      <td>0</td>\n",
       "      <td>0</td>\n",
       "      <td>1</td>\n",
       "      <td>0</td>\n",
       "      <td>-1</td>\n",
       "      <td>1</td>\n",
       "      <td>-1</td>\n",
       "      <td>0</td>\n",
       "      <td>1</td>\n",
       "    </tr>\n",
       "    <tr>\n",
       "      <th>3</th>\n",
       "      <td>4</td>\n",
       "      <td>3</td>\n",
       "      <td>1</td>\n",
       "      <td>6</td>\n",
       "      <td>79</td>\n",
       "      <td>1</td>\n",
       "      <td>0</td>\n",
       "      <td>0</td>\n",
       "      <td>0</td>\n",
       "      <td>0</td>\n",
       "      <td>...</td>\n",
       "      <td>0</td>\n",
       "      <td>0</td>\n",
       "      <td>0</td>\n",
       "      <td>1</td>\n",
       "      <td>-1</td>\n",
       "      <td>1</td>\n",
       "      <td>1</td>\n",
       "      <td>1</td>\n",
       "      <td>-1</td>\n",
       "      <td>1</td>\n",
       "    </tr>\n",
       "    <tr>\n",
       "      <th>4</th>\n",
       "      <td>5</td>\n",
       "      <td>3</td>\n",
       "      <td>0</td>\n",
       "      <td>4</td>\n",
       "      <td>46</td>\n",
       "      <td>0</td>\n",
       "      <td>0</td>\n",
       "      <td>0</td>\n",
       "      <td>0</td>\n",
       "      <td>0</td>\n",
       "      <td>...</td>\n",
       "      <td>1</td>\n",
       "      <td>0</td>\n",
       "      <td>0</td>\n",
       "      <td>1</td>\n",
       "      <td>1</td>\n",
       "      <td>-1</td>\n",
       "      <td>0</td>\n",
       "      <td>-1</td>\n",
       "      <td>-1</td>\n",
       "      <td>1</td>\n",
       "    </tr>\n",
       "  </tbody>\n",
       "</table>\n",
       "<p>5 rows × 50 columns</p>\n",
       "</div>"
      ],
      "text/plain": [
       "   id  NumDots  SubdomainLevel  PathLevel  UrlLength  NumDash  \\\n",
       "0   1        3               1          5         72        0   \n",
       "1   2        3               1          3        144        0   \n",
       "2   3        3               1          2         58        0   \n",
       "3   4        3               1          6         79        1   \n",
       "4   5        3               0          4         46        0   \n",
       "\n",
       "   NumDashInHostname  AtSymbol  TildeSymbol  NumUnderscore  ...  \\\n",
       "0                  0         0            0              0  ...   \n",
       "1                  0         0            0              2  ...   \n",
       "2                  0         0            0              0  ...   \n",
       "3                  0         0            0              0  ...   \n",
       "4                  0         0            0              0  ...   \n",
       "\n",
       "   IframeOrFrame  MissingTitle  ImagesOnlyInForm  SubdomainLevelRT  \\\n",
       "0              0             0                 1                 1   \n",
       "1              0             0                 0                 1   \n",
       "2              0             0                 0                 1   \n",
       "3              0             0                 0                 1   \n",
       "4              1             0                 0                 1   \n",
       "\n",
       "   UrlLengthRT  PctExtResourceUrlsRT  AbnormalExtFormActionR  \\\n",
       "0            0                     1                       1   \n",
       "1           -1                     1                       1   \n",
       "2            0                    -1                       1   \n",
       "3           -1                     1                       1   \n",
       "4            1                    -1                       0   \n",
       "\n",
       "   ExtMetaScriptLinkRT  PctExtNullSelfRedirectHyperlinksRT  CLASS_LABEL  \n",
       "0                   -1                                   1            1  \n",
       "1                    1                                   1            1  \n",
       "2                   -1                                   0            1  \n",
       "3                    1                                  -1            1  \n",
       "4                   -1                                  -1            1  \n",
       "\n",
       "[5 rows x 50 columns]"
      ]
     },
     "execution_count": 2,
     "metadata": {},
     "output_type": "execute_result"
    }
   ],
   "source": [
    "phishing_df = pd.read_csv(\"./data/Phishing_Legitimate_full.csv\")\n",
    "phishing_df.head()"
   ]
  },
  {
   "cell_type": "markdown",
   "id": "c6aacc82-86a4-4f51-88de-5ad00a499547",
   "metadata": {},
   "source": [
    "#### 5.2.2 Checking for missing values"
   ]
  },
  {
   "cell_type": "code",
   "execution_count": 3,
   "id": "be4e2f13-4998-4feb-9e0d-1d3f48a96dfb",
   "metadata": {},
   "outputs": [
    {
     "data": {
      "text/plain": [
       "id                                    0\n",
       "NumDots                               0\n",
       "SubdomainLevel                        0\n",
       "PathLevel                             0\n",
       "UrlLength                             0\n",
       "NumDash                               0\n",
       "NumDashInHostname                     0\n",
       "AtSymbol                              0\n",
       "TildeSymbol                           0\n",
       "NumUnderscore                         0\n",
       "NumPercent                            0\n",
       "NumQueryComponents                    0\n",
       "NumAmpersand                          0\n",
       "NumHash                               0\n",
       "NumNumericChars                       0\n",
       "NoHttps                               0\n",
       "RandomString                          0\n",
       "IpAddress                             0\n",
       "DomainInSubdomains                    0\n",
       "DomainInPaths                         0\n",
       "HttpsInHostname                       0\n",
       "HostnameLength                        0\n",
       "PathLength                            0\n",
       "QueryLength                           0\n",
       "DoubleSlashInPath                     0\n",
       "NumSensitiveWords                     0\n",
       "EmbeddedBrandName                     0\n",
       "PctExtHyperlinks                      0\n",
       "PctExtResourceUrls                    0\n",
       "ExtFavicon                            0\n",
       "InsecureForms                         0\n",
       "RelativeFormAction                    0\n",
       "ExtFormAction                         0\n",
       "AbnormalFormAction                    0\n",
       "PctNullSelfRedirectHyperlinks         0\n",
       "FrequentDomainNameMismatch            0\n",
       "FakeLinkInStatusBar                   0\n",
       "RightClickDisabled                    0\n",
       "PopUpWindow                           0\n",
       "SubmitInfoToEmail                     0\n",
       "IframeOrFrame                         0\n",
       "MissingTitle                          0\n",
       "ImagesOnlyInForm                      0\n",
       "SubdomainLevelRT                      0\n",
       "UrlLengthRT                           0\n",
       "PctExtResourceUrlsRT                  0\n",
       "AbnormalExtFormActionR                0\n",
       "ExtMetaScriptLinkRT                   0\n",
       "PctExtNullSelfRedirectHyperlinksRT    0\n",
       "CLASS_LABEL                           0\n",
       "dtype: int64"
      ]
     },
     "execution_count": 3,
     "metadata": {},
     "output_type": "execute_result"
    }
   ],
   "source": [
    "phishing_df.isna().sum()"
   ]
  },
  {
   "cell_type": "markdown",
   "id": "c2522fbb-e6dd-4a5b-a952-2d9f99eb775f",
   "metadata": {},
   "source": [
    "#### 5.2.3 Splitting into dependent and target variable"
   ]
  },
  {
   "cell_type": "code",
   "execution_count": 4,
   "id": "df99928e-2a16-44c5-bf88-bd3c8c731edf",
   "metadata": {},
   "outputs": [
    {
     "data": {
      "text/plain": [
       "(      NumDots  SubdomainLevel  PathLevel  UrlLength  NumDash  \\\n",
       " 0           3               1          5         72        0   \n",
       " 1           3               1          3        144        0   \n",
       " 2           3               1          2         58        0   \n",
       " 3           3               1          6         79        1   \n",
       " 4           3               0          4         46        0   \n",
       " ...       ...             ...        ...        ...      ...   \n",
       " 9995        3               1          1         50        0   \n",
       " 9996        2               1          4         59        1   \n",
       " 9997        2               1          4         57        0   \n",
       " 9998        3               1          1         49        0   \n",
       " 9999        3               1          2         52        3   \n",
       " \n",
       "       NumDashInHostname  AtSymbol  TildeSymbol  NumUnderscore  NumPercent  \\\n",
       " 0                     0         0            0              0           0   \n",
       " 1                     0         0            0              2           0   \n",
       " 2                     0         0            0              0           0   \n",
       " 3                     0         0            0              0           0   \n",
       " 4                     0         0            0              0           0   \n",
       " ...                 ...       ...          ...            ...         ...   \n",
       " 9995                  0         0            0              0           0   \n",
       " 9996                  0         0            0              0           0   \n",
       " 9997                  0         0            0              0           0   \n",
       " 9998                  0         0            0              0           0   \n",
       " 9999                  0         0            0              0           0   \n",
       " \n",
       "       ...  SubmitInfoToEmail  IframeOrFrame  MissingTitle  ImagesOnlyInForm  \\\n",
       " 0     ...                  0              0             0                 1   \n",
       " 1     ...                  0              0             0                 0   \n",
       " 2     ...                  0              0             0                 0   \n",
       " 3     ...                  1              0             0                 0   \n",
       " 4     ...                  0              1             0                 0   \n",
       " ...   ...                ...            ...           ...               ...   \n",
       " 9995  ...                  0              0             0                 0   \n",
       " 9996  ...                  0              1             0                 0   \n",
       " 9997  ...                  0              0             0                 0   \n",
       " 9998  ...                  0              1             0                 0   \n",
       " 9999  ...                  0              0             0                 0   \n",
       " \n",
       "       SubdomainLevelRT  UrlLengthRT  PctExtResourceUrlsRT  \\\n",
       " 0                    1            0                     1   \n",
       " 1                    1           -1                     1   \n",
       " 2                    1            0                    -1   \n",
       " 3                    1           -1                     1   \n",
       " 4                    1            1                    -1   \n",
       " ...                ...          ...                   ...   \n",
       " 9995                 1            1                    -1   \n",
       " 9996                 1            0                     0   \n",
       " 9997                 1            0                     1   \n",
       " 9998                 1            1                     0   \n",
       " 9999                 1            1                     1   \n",
       " \n",
       "       AbnormalExtFormActionR  ExtMetaScriptLinkRT  \\\n",
       " 0                          1                   -1   \n",
       " 1                          1                    1   \n",
       " 2                          1                   -1   \n",
       " 3                          1                    1   \n",
       " 4                          0                   -1   \n",
       " ...                      ...                  ...   \n",
       " 9995                       1                    0   \n",
       " 9996                       1                    0   \n",
       " 9997                       1                    0   \n",
       " 9998                       1                    0   \n",
       " 9999                       1                    1   \n",
       " \n",
       "       PctExtNullSelfRedirectHyperlinksRT  \n",
       " 0                                      1  \n",
       " 1                                      1  \n",
       " 2                                      0  \n",
       " 3                                     -1  \n",
       " 4                                     -1  \n",
       " ...                                  ...  \n",
       " 9995                                   1  \n",
       " 9996                                   1  \n",
       " 9997                                   1  \n",
       " 9998                                   1  \n",
       " 9999                                   1  \n",
       " \n",
       " [10000 rows x 48 columns],\n",
       " 0       1\n",
       " 1       1\n",
       " 2       1\n",
       " 3       1\n",
       " 4       1\n",
       "        ..\n",
       " 9995    0\n",
       " 9996    0\n",
       " 9997    0\n",
       " 9998    0\n",
       " 9999    0\n",
       " Name: CLASS_LABEL, Length: 10000, dtype: int64)"
      ]
     },
     "execution_count": 4,
     "metadata": {},
     "output_type": "execute_result"
    }
   ],
   "source": [
    "x = phishing_df.drop(['id', 'CLASS_LABEL'], axis = 1)\n",
    "y = phishing_df['CLASS_LABEL']\n",
    "\n",
    "x_train, x_test, y_train, y_test = train_test_split(x, y, test_size=0.2)\n",
    "x, y"
   ]
  },
  {
   "cell_type": "markdown",
   "id": "6fc4e30d-22cd-42be-ad10-f7151d3995d8",
   "metadata": {},
   "source": [
    "### 5.3 Training Models"
   ]
  },
  {
   "cell_type": "markdown",
   "id": "076ddd39-5af4-45fa-a3b2-ae58e199d980",
   "metadata": {},
   "source": [
    "- Using KNeighborsClassifier estimator"
   ]
  },
  {
   "cell_type": "code",
   "execution_count": 5,
   "id": "6e63b6c6-9e43-4017-bf37-e92b225af573",
   "metadata": {},
   "outputs": [
    {
     "name": "stdout",
     "output_type": "stream",
     "text": [
      "Fitting 5 folds for each of 10 candidates, totalling 50 fits\n",
      "[CV] END .....................algorithm=brute, n_neighbors=9; total time=   0.0s\n",
      "[CV] END .....................algorithm=brute, n_neighbors=9; total time=   0.0s\n",
      "[CV] END .....................algorithm=brute, n_neighbors=9; total time=   0.0s\n",
      "[CV] END .....................algorithm=brute, n_neighbors=9; total time=   0.0s\n",
      "[CV] END .....................algorithm=brute, n_neighbors=9; total time=   0.0s\n",
      "[CV] END ...................algorithm=kd_tree, n_neighbors=7; total time=   0.0s\n",
      "[CV] END ...................algorithm=kd_tree, n_neighbors=7; total time=   0.0s\n",
      "[CV] END ...................algorithm=kd_tree, n_neighbors=7; total time=   0.0s\n",
      "[CV] END ...................algorithm=kd_tree, n_neighbors=7; total time=   0.0s\n",
      "[CV] END ...................algorithm=kd_tree, n_neighbors=7; total time=   0.0s\n",
      "[CV] END ...................algorithm=kd_tree, n_neighbors=9; total time=   0.0s\n",
      "[CV] END ...................algorithm=kd_tree, n_neighbors=9; total time=   0.0s\n",
      "[CV] END ...................algorithm=kd_tree, n_neighbors=9; total time=   0.0s\n",
      "[CV] END ...................algorithm=kd_tree, n_neighbors=9; total time=   0.0s\n",
      "[CV] END ...................algorithm=kd_tree, n_neighbors=9; total time=   0.0s\n",
      "[CV] END .....................algorithm=brute, n_neighbors=3; total time=   0.0s\n",
      "[CV] END .....................algorithm=brute, n_neighbors=3; total time=   0.0s\n",
      "[CV] END .....................algorithm=brute, n_neighbors=3; total time=   0.0s\n",
      "[CV] END .....................algorithm=brute, n_neighbors=3; total time=   0.0s\n",
      "[CV] END .....................algorithm=brute, n_neighbors=3; total time=   0.0s\n",
      "[CV] END .....................algorithm=brute, n_neighbors=5; total time=   0.0s\n",
      "[CV] END .....................algorithm=brute, n_neighbors=5; total time=   0.0s\n",
      "[CV] END .....................algorithm=brute, n_neighbors=5; total time=   0.0s\n",
      "[CV] END .....................algorithm=brute, n_neighbors=5; total time=   0.0s\n",
      "[CV] END .....................algorithm=brute, n_neighbors=5; total time=   0.0s\n",
      "[CV] END .................algorithm=ball_tree, n_neighbors=9; total time=   0.0s\n",
      "[CV] END .................algorithm=ball_tree, n_neighbors=9; total time=   0.0s\n",
      "[CV] END .................algorithm=ball_tree, n_neighbors=9; total time=   0.0s\n",
      "[CV] END .................algorithm=ball_tree, n_neighbors=9; total time=   0.0s\n",
      "[CV] END .................algorithm=ball_tree, n_neighbors=9; total time=   0.0s\n",
      "[CV] END .....................algorithm=brute, n_neighbors=7; total time=   0.0s\n",
      "[CV] END .....................algorithm=brute, n_neighbors=7; total time=   0.0s\n",
      "[CV] END .....................algorithm=brute, n_neighbors=7; total time=   0.0s\n",
      "[CV] END .....................algorithm=brute, n_neighbors=7; total time=   0.0s\n",
      "[CV] END .....................algorithm=brute, n_neighbors=7; total time=   0.0s\n",
      "[CV] END .................algorithm=ball_tree, n_neighbors=7; total time=   0.0s\n",
      "[CV] END .................algorithm=ball_tree, n_neighbors=7; total time=   0.0s\n",
      "[CV] END .................algorithm=ball_tree, n_neighbors=7; total time=   0.0s\n",
      "[CV] END .................algorithm=ball_tree, n_neighbors=7; total time=   0.0s\n",
      "[CV] END .................algorithm=ball_tree, n_neighbors=7; total time=   0.0s\n",
      "[CV] END ...................algorithm=kd_tree, n_neighbors=5; total time=   0.0s\n",
      "[CV] END ...................algorithm=kd_tree, n_neighbors=5; total time=   0.0s\n",
      "[CV] END ...................algorithm=kd_tree, n_neighbors=5; total time=   0.0s\n",
      "[CV] END ...................algorithm=kd_tree, n_neighbors=5; total time=   0.0s\n",
      "[CV] END ...................algorithm=kd_tree, n_neighbors=5; total time=   0.0s\n",
      "[CV] END .................algorithm=ball_tree, n_neighbors=5; total time=   0.0s\n",
      "[CV] END .................algorithm=ball_tree, n_neighbors=5; total time=   0.0s\n",
      "[CV] END .................algorithm=ball_tree, n_neighbors=5; total time=   0.0s\n",
      "[CV] END .................algorithm=ball_tree, n_neighbors=5; total time=   0.0s\n",
      "[CV] END .................algorithm=ball_tree, n_neighbors=5; total time=   0.0s\n",
      "KNeighbor Classifier Model accuracy = 0.88\n"
     ]
    },
    {
     "data": {
      "image/png": "[encoded data removed]",
      "text/plain": [
       "<Figure size 640x480 with 2 Axes>"
      ]
     },
     "metadata": {},
     "output_type": "display_data"
    }
   ],
   "source": [
    "#random seed\n",
    "np.random.seed(43)\n",
    "\n",
    "#Hyper Parameters to use\n",
    "hyperParameters = {\n",
    "    \"n_neighbors\": [3, 5, 7, 9],\n",
    "    \"algorithm\": [\"ball_tree\", \"kd_tree\", \"brute\"]\n",
    "}\n",
    "\n",
    "#Instantiating model\n",
    "model = KNeighborsClassifier()\n",
    "rs_KNeighborsModel = RandomizedSearchCV(model, hyperParameters, cv = 5, verbose = 2)\n",
    "\n",
    "#Fitting data\n",
    "rs_KNeighborsModel.fit(x_test, y_test)\n",
    "\n",
    "#Making predictions\n",
    "y_preds1 = rs_KNeighborsModel.predict(x_test)\n",
    "\n",
    "#score of model\n",
    "rs_KNeighborModel_score = rs_KNeighborsModel.score(x_test, y_test)\n",
    "print(f\"KNeighbor Classifier Model accuracy = {rs_KNeighborModel_score:.2f}\")\n",
    "\n",
    "#confusion matrix display \n",
    "cm = ConfusionMatrixDisplay.from_predictions(y_test, y_preds1)\n",
    "cm.figure_.savefig('./img/KNeighborsClassifier/confusion_matrix.png')"
   ]
  },
  {
   "cell_type": "markdown",
   "id": "63cded60-1429-4fd8-9dae-9ab1260f1ea3",
   "metadata": {},
   "source": [
    "- Using Naive Bayes estimator"
   ]
  },
  {
   "cell_type": "code",
   "execution_count": 6,
   "id": "0e8af526-9f0e-4c60-996e-9d78e1b4bdac",
   "metadata": {},
   "outputs": [
    {
     "name": "stdout",
     "output_type": "stream",
     "text": [
      "Naive Bayes Classifier Model accuracy = 0.85\n"
     ]
    },
    {
     "data": {
      "image/png": "[encoded data removed]",
      "text/plain": [
       "<Figure size 640x480 with 2 Axes>"
      ]
     },
     "metadata": {},
     "output_type": "display_data"
    }
   ],
   "source": [
    "#random seed\n",
    "np.random.seed(43)\n",
    "\n",
    "#Instantiating model\n",
    "model = GaussianNB()\n",
    "\n",
    "#Fitting data\n",
    "model.fit(x_test, y_test)\n",
    "\n",
    "#Making predictions\n",
    "y_preds2 = model.predict(x_test)\n",
    "\n",
    "#score of model\n",
    "model_score = model.score(x_test, y_test)\n",
    "print(f\"Naive Bayes Classifier Model accuracy = {model_score:.2f}\")\n",
    "\n",
    "#confusion matrix display \n",
    "cm = ConfusionMatrixDisplay.from_predictions(y_test, y_preds2)\n",
    "cm.figure_.savefig('./img/NaiveBayesClassifier/confusion_matrix.png')"
   ]
  },
  {
   "cell_type": "markdown",
   "id": "cc9e56ce-cbcc-456e-8fe8-44997faf83b7",
   "metadata": {},
   "source": [
    "- Using Random Forest estimator"
   ]
  },
  {
   "cell_type": "code",
   "execution_count": 7,
   "id": "921307a7-ab86-4b18-85d3-14b1c2f9ffb4",
   "metadata": {},
   "outputs": [
    {
     "name": "stdout",
     "output_type": "stream",
     "text": [
      "Fitting 5 folds for each of 10 candidates, totalling 50 fits\n",
      "[CV] END max_depth=20, max_features=auto, min_samples_leaf=2, min_samples_split=4, n_estimators=10; total time=   0.0s\n",
      "[CV] END max_depth=20, max_features=auto, min_samples_leaf=2, min_samples_split=4, n_estimators=10; total time=   0.0s\n",
      "[CV] END max_depth=20, max_features=auto, min_samples_leaf=2, min_samples_split=4, n_estimators=10; total time=   0.0s\n",
      "[CV] END max_depth=20, max_features=auto, min_samples_leaf=2, min_samples_split=4, n_estimators=10; total time=   0.0s\n",
      "[CV] END max_depth=20, max_features=auto, min_samples_leaf=2, min_samples_split=4, n_estimators=10; total time=   0.0s\n",
      "[CV] END max_depth=None, max_features=sqrt, min_samples_leaf=2, min_samples_split=4, n_estimators=200; total time=   0.4s\n",
      "[CV] END max_depth=None, max_features=sqrt, min_samples_leaf=2, min_samples_split=4, n_estimators=200; total time=   0.4s\n",
      "[CV] END max_depth=None, max_features=sqrt, min_samples_leaf=2, min_samples_split=4, n_estimators=200; total time=   0.4s\n",
      "[CV] END max_depth=None, max_features=sqrt, min_samples_leaf=2, min_samples_split=4, n_estimators=200; total time=   0.4s\n",
      "[CV] END max_depth=None, max_features=sqrt, min_samples_leaf=2, min_samples_split=4, n_estimators=200; total time=   0.4s\n",
      "[CV] END max_depth=10, max_features=sqrt, min_samples_leaf=4, min_samples_split=4, n_estimators=100; total time=   0.2s\n",
      "[CV] END max_depth=10, max_features=sqrt, min_samples_leaf=4, min_samples_split=4, n_estimators=100; total time=   0.2s\n",
      "[CV] END max_depth=10, max_features=sqrt, min_samples_leaf=4, min_samples_split=4, n_estimators=100; total time=   0.2s\n",
      "[CV] END max_depth=10, max_features=sqrt, min_samples_leaf=4, min_samples_split=4, n_estimators=100; total time=   0.2s\n",
      "[CV] END max_depth=10, max_features=sqrt, min_samples_leaf=4, min_samples_split=4, n_estimators=100; total time=   0.2s\n",
      "[CV] END max_depth=None, max_features=sqrt, min_samples_leaf=1, min_samples_split=6, n_estimators=1000; total time=   1.7s\n",
      "[CV] END max_depth=None, max_features=sqrt, min_samples_leaf=1, min_samples_split=6, n_estimators=1000; total time=   1.7s\n",
      "[CV] END max_depth=None, max_features=sqrt, min_samples_leaf=1, min_samples_split=6, n_estimators=1000; total time=   1.9s\n",
      "[CV] END max_depth=None, max_features=sqrt, min_samples_leaf=1, min_samples_split=6, n_estimators=1000; total time=   1.7s\n",
      "[CV] END max_depth=None, max_features=sqrt, min_samples_leaf=1, min_samples_split=6, n_estimators=1000; total time=   1.7s\n",
      "[CV] END max_depth=5, max_features=auto, min_samples_leaf=4, min_samples_split=6, n_estimators=10; total time=   0.0s\n",
      "[CV] END max_depth=5, max_features=auto, min_samples_leaf=4, min_samples_split=6, n_estimators=10; total time=   0.0s\n",
      "[CV] END max_depth=5, max_features=auto, min_samples_leaf=4, min_samples_split=6, n_estimators=10; total time=   0.0s\n",
      "[CV] END max_depth=5, max_features=auto, min_samples_leaf=4, min_samples_split=6, n_estimators=10; total time=   0.0s\n",
      "[CV] END max_depth=5, max_features=auto, min_samples_leaf=4, min_samples_split=6, n_estimators=10; total time=   0.0s\n",
      "[CV] END max_depth=10, max_features=sqrt, min_samples_leaf=4, min_samples_split=6, n_estimators=10; total time=   0.0s\n",
      "[CV] END max_depth=10, max_features=sqrt, min_samples_leaf=4, min_samples_split=6, n_estimators=10; total time=   0.0s\n",
      "[CV] END max_depth=10, max_features=sqrt, min_samples_leaf=4, min_samples_split=6, n_estimators=10; total time=   0.0s\n",
      "[CV] END max_depth=10, max_features=sqrt, min_samples_leaf=4, min_samples_split=6, n_estimators=10; total time=   0.0s\n",
      "[CV] END max_depth=10, max_features=sqrt, min_samples_leaf=4, min_samples_split=6, n_estimators=10; total time=   0.0s\n",
      "[CV] END max_depth=None, max_features=sqrt, min_samples_leaf=2, min_samples_split=4, n_estimators=1000; total time=   1.7s\n",
      "[CV] END max_depth=None, max_features=sqrt, min_samples_leaf=2, min_samples_split=4, n_estimators=1000; total time=   1.7s\n",
      "[CV] END max_depth=None, max_features=sqrt, min_samples_leaf=2, min_samples_split=4, n_estimators=1000; total time=   1.8s\n",
      "[CV] END max_depth=None, max_features=sqrt, min_samples_leaf=2, min_samples_split=4, n_estimators=1000; total time=   1.9s\n",
      "[CV] END max_depth=None, max_features=sqrt, min_samples_leaf=2, min_samples_split=4, n_estimators=1000; total time=   1.7s\n",
      "[CV] END max_depth=10, max_features=sqrt, min_samples_leaf=2, min_samples_split=4, n_estimators=1000; total time=   1.7s\n",
      "[CV] END max_depth=10, max_features=sqrt, min_samples_leaf=2, min_samples_split=4, n_estimators=1000; total time=   1.7s\n",
      "[CV] END max_depth=10, max_features=sqrt, min_samples_leaf=2, min_samples_split=4, n_estimators=1000; total time=   1.6s\n",
      "[CV] END max_depth=10, max_features=sqrt, min_samples_leaf=2, min_samples_split=4, n_estimators=1000; total time=   1.6s\n",
      "[CV] END max_depth=10, max_features=sqrt, min_samples_leaf=2, min_samples_split=4, n_estimators=1000; total time=   1.7s\n",
      "[CV] END max_depth=20, max_features=auto, min_samples_leaf=1, min_samples_split=4, n_estimators=10; total time=   0.0s\n",
      "[CV] END max_depth=20, max_features=auto, min_samples_leaf=1, min_samples_split=4, n_estimators=10; total time=   0.0s\n",
      "[CV] END max_depth=20, max_features=auto, min_samples_leaf=1, min_samples_split=4, n_estimators=10; total time=   0.0s\n",
      "[CV] END max_depth=20, max_features=auto, min_samples_leaf=1, min_samples_split=4, n_estimators=10; total time=   0.0s\n",
      "[CV] END max_depth=20, max_features=auto, min_samples_leaf=1, min_samples_split=4, n_estimators=10; total time=   0.0s\n",
      "[CV] END max_depth=None, max_features=sqrt, min_samples_leaf=2, min_samples_split=2, n_estimators=1000; total time=   1.8s\n",
      "[CV] END max_depth=None, max_features=sqrt, min_samples_leaf=2, min_samples_split=2, n_estimators=1000; total time=   1.7s\n",
      "[CV] END max_depth=None, max_features=sqrt, min_samples_leaf=2, min_samples_split=2, n_estimators=1000; total time=   1.7s\n",
      "[CV] END max_depth=None, max_features=sqrt, min_samples_leaf=2, min_samples_split=2, n_estimators=1000; total time=   1.8s\n",
      "[CV] END max_depth=None, max_features=sqrt, min_samples_leaf=2, min_samples_split=2, n_estimators=1000; total time=   1.9s\n",
      "Random Forest Classifier Model accuracy = 0.99\n"
     ]
    },
    {
     "data": {
      "image/png": "[encoded data removed]",
      "text/plain": [
       "<Figure size 640x480 with 2 Axes>"
      ]
     },
     "metadata": {},
     "output_type": "display_data"
    }
   ],
   "source": [
    "#random seed\n",
    "np.random.seed(43)\n",
    "\n",
    "#Hyper Parameters to use\n",
    "hyperParameters = {\n",
    "    \"n_estimators\": [10, 100, 200, 500, 1000],\n",
    "    \"max_depth\": [None, 5, 10, 20],\n",
    "    \"max_features\": [\"auto\", \"sqrt\"],\n",
    "    \"min_samples_split\": [2, 4, 6],\n",
    "    \"min_samples_leaf\": [1, 2, 4]\n",
    "}\n",
    "\n",
    "#Instantiating model\n",
    "model = RandomForestClassifier()\n",
    "rs_RandomForestClassifier = RandomizedSearchCV(model, hyperParameters, cv = 5, verbose = 2)\n",
    "\n",
    "#Fitting data\n",
    "rs_RandomForestClassifier.fit(x_test, y_test)\n",
    "\n",
    "#Making predictions\n",
    "y_preds3 = rs_RandomForestClassifier.predict(x_test)\n",
    "\n",
    "#score of model\n",
    "rs_RandomForestClassifierModel_score = rs_RandomForestClassifier.score(x_test, y_test)\n",
    "print(f\"Random Forest Classifier Model accuracy = {rs_RandomForestClassifierModel_score:.2f}\")\n",
    "\n",
    "#confusion matrix display \n",
    "cm = ConfusionMatrixDisplay.from_predictions(y_test, y_preds3)\n",
    "cm.figure_.savefig('./img/RandomForestClassifier/confusion_matrix.png')"
   ]
  },
  {
   "cell_type": "markdown",
   "id": "bec34e56-073a-43bc-8889-418bf005ed9d",
   "metadata": {},
   "source": [
    "#### 6. Comparison"
   ]
  },
  {
   "cell_type": "code",
   "execution_count": 8,
   "id": "ef2b4c02-140c-4319-9a9d-441427ce525c",
   "metadata": {},
   "outputs": [],
   "source": [
    "def evaluatePrediction(y_true, y_preds):\n",
    "    accuracy = accuracy_score(y_true, y_preds)\n",
    "    precision = precision_score(y_true, y_preds)\n",
    "    recall = recall_score(y_true, y_preds)\n",
    "    f1 = f1_score(y_true, y_preds)\n",
    "    return {\"accuracy\": round(accuracy, 2),\n",
    "           \"precision\": round(precision, 2),\n",
    "           \"recall\": round(recall, 2),\n",
    "           \"f1-score\": round(f1, 2)}"
   ]
  },
  {
   "cell_type": "code",
   "execution_count": 9,
   "id": "6b9899ea-f001-4ae8-a83d-079bf2ad39ba",
   "metadata": {},
   "outputs": [
    {
     "data": {
      "text/plain": [
       "<Axes: >"
      ]
     },
     "execution_count": 9,
     "metadata": {},
     "output_type": "execute_result"
    },
    {
     "data": {
      "image/png": "[encoded data removed]",
      "text/plain": [
       "<Figure size 640x480 with 1 Axes>"
      ]
     },
     "metadata": {},
     "output_type": "display_data"
    }
   ],
   "source": [
    "evaluate_metrics = pd.DataFrame({\n",
    "    \"KNeighbors Classifier\": evaluatePrediction(y_test, y_preds1),\n",
    "    \"Naive Bayes Classifier\": evaluatePrediction(y_test, y_preds2),\n",
    "    \"Random Forest Classifier\": evaluatePrediction(y_test, y_preds3)\n",
    "})\n",
    "evaluate_metrics.plot.bar()"
   ]
  },
  {
   "cell_type": "markdown",
   "id": "8b1eddcf-cf92-426e-962f-d9ded0067b70",
   "metadata": {},
   "source": [
    "### 7. Save Models for future"
   ]
  },
  {
   "cell_type": "code",
   "execution_count": 10,
   "id": "db27c4ea-6c29-47b1-a055-dc1979334e96",
   "metadata": {},
   "outputs": [
    {
     "data": {
      "text/plain": [
       "['model/RandomForestClassifier.joblib']"
      ]
     },
     "execution_count": 10,
     "metadata": {},
     "output_type": "execute_result"
    }
   ],
   "source": [
    "#KNeighbors Classifier\n",
    "dump(rs_KNeighborsModel, filename = \"model/KNeighborsClassifier.joblib\")\n",
    "\n",
    "# Naive Bayes Classifier\n",
    "dump(model, filename = \"model/NaiveBayesClassifier.joblib\")\n",
    "\n",
    "#Random Forest Classifier\n",
    "dump(rs_RandomForestClassifier, filename = \"model/RandomForestClassifier.joblib\")"
   ]
  }
 ],
 "metadata": {
  "kernelspec": {
   "display_name": "Python 3 (ipykernel)",
   "language": "python",
   "name": "python3"
  },
  "language_info": {
   "codemirror_mode": {
    "name": "ipython",
    "version": 3
   },
   "file_extension": ".py",
   "mimetype": "text/x-python",
   "name": "python",
   "nbconvert_exporter": "python",
   "pygments_lexer": "ipython3",
   "version": "3.12.2"
  }
 },
 "nbformat": 4,
 "nbformat_minor": 5
}
